{
 "cells": [
  {
   "cell_type": "code",
   "execution_count": 5,
   "id": "d0a37644-0e5e-4eba-a893-504e56f3cf54",
   "metadata": {},
   "outputs": [
    {
     "name": "stdout",
     "output_type": "stream",
     "text": [
      "Indian Freedom Fighters and their Contribution\n",
      "\n",
      "Bal Gangadhar Tilak  \n",
      "  Promoter of Swaraj and Swadeshi:\n",
      "Tilak championed the concept of self-rule and encouraged the use of Indian-made products, a movement that gained momentum following the Partition of Bengal. \n",
      "Utilized \"Kesari\" and \"Maratha\":\n",
      "He leveraged his newspapers, \"Kesari\" and \"Maratha,\" to spread nationalist ideas, foster collective thinking, and promote Swadeshi principles. \n",
      "Established \"Deccan Education Society\":\n",
      "Through the \"Deccan Education Society,\" he aimed to develop collective action and awareness among Indians. \n",
      "\"Swaraj is my birthright, and I shall have it\":\n",
      "This iconic slogan encapsulated his unwavering demand for Indian independence and ignited a patriotic fervor among millions.  \n",
      "\n",
      "Mahatma Gandhi  \n",
      "  Leadership in Mass Movements:\n",
      "Gandhi led significant national movements that united a diverse Indian population under the common goal of independence. These included the Non-Cooperation Movement (1920-1922), the Salt Satyagraha (Dandi March, 1930), the Civil Disobedience Movement, and the Quit India Movement (1942). \n",
      "Satyagraha and Nonviolent Resistance:\n",
      "Gandhi popularized and implemented the philosophy of Satyagraha (truth force) and Ahimsa (nonviolence) as powerful tools for achieving political change. This approach involved peaceful protests, civil disobedience, boycotts, and strikes, which put immense pressure on the British government. \n",
      "\n",
      "Sardar Vallabhbhai Patel  \n",
      "  Leadership in Movements:\n",
      "Patel was a prominent leader in various freedom movements, including the Champaran Satyagraha, Kheda Satyagraha, and the Bardoli Satyagraha, where he inspired civil disobedience and demonstrated exemplary leadership against British oppression. \n",
      "Unity and Diplomacy:\n",
      "He was a staunch advocate for the unity of India and demonstrated exceptional diplomatic skills and firmness in persuading princely states to join the Indian Union after independence. \n",
      "\n"
     ]
    }
   ],
   "source": [
    "# !pip install mysql.connector\n",
    "import json\n",
    "import mysql.connector\n",
    "import pandas as pd\n",
    "import warnings\n",
    "warnings.filterwarnings(\"ignore\")\n",
    "#db connection details taken from dbconfig.json\n",
    "with open(\"dbconfig.json\") as f:\n",
    "    config = json.load(f)\n",
    "#website uses mysql database\n",
    "conn1 = mysql.connector.connect(**config)\n",
    "#print(conn1)\n",
    "#type(conn1)\n",
    "cursor_object=conn1.cursor()\n",
    "#table freedom_fighters created on mysql for this testing only\n",
    "\n",
    "query1=\"\"\"create or replace table freedom_fighters(\n",
    "    name varchar(30) PRIMARY KEY,\n",
    "    contribution varchar(10000)\n",
    ");\"\"\"\n",
    "query2=\"\"\"insert into freedom_fighters values\n",
    "('Bal Gangadhar Tilak','Promoter of Swaraj and Swadeshi:\n",
    "Tilak championed the concept of self-rule and encouraged the use of Indian-made products, a movement that gained momentum following the Partition of Bengal. \n",
    "Utilized \"Kesari\" and \"Maratha\":\n",
    "He leveraged his newspapers, \"Kesari\" and \"Maratha,\" to spread nationalist ideas, foster collective thinking, and promote Swadeshi principles. \n",
    "Established \"Deccan Education Society\":\n",
    "Through the \"Deccan Education Society,\" he aimed to develop collective action and awareness among Indians. \n",
    "\"Swaraj is my birthright, and I shall have it\":\n",
    "This iconic slogan encapsulated his unwavering demand for Indian independence and ignited a patriotic fervor among millions. '),\n",
    "('Sardar Vallabhbhai Patel','Leadership in Movements:\n",
    "Patel was a prominent leader in various freedom movements, including the Champaran Satyagraha, Kheda Satyagraha, and the Bardoli Satyagraha, where he inspired civil disobedience and demonstrated exemplary leadership against British oppression. \n",
    "Unity and Diplomacy:\n",
    "He was a staunch advocate for the unity of India and demonstrated exceptional diplomatic skills and firmness in persuading princely states to join the Indian Union after independence.'),\n",
    "('Mahatma Gandhi','Leadership in Mass Movements:\n",
    "Gandhi led significant national movements that united a diverse Indian population under the common goal of independence. These included the Non-Cooperation Movement (1920-1922), the Salt Satyagraha (Dandi March, 1930), the Civil Disobedience Movement, and the Quit India Movement (1942). \n",
    "Satyagraha and Nonviolent Resistance:\n",
    "Gandhi popularized and implemented the philosophy of Satyagraha (truth force) and Ahimsa (nonviolence) as powerful tools for achieving political change. This approach involved peaceful protests, civil disobedience, boycotts, and strikes, which put immense pressure on the British government.')\n",
    " ; \"\"\"\n",
    "query3=\"\"\"select * from freedom_fighters LIMIT 3;\"\"\"\n",
    "cursor_object.execute(query1)\n",
    "cursor_object.execute(query2)\n",
    "cursor_object.execute(query3)\n",
    "output=cursor_object.fetchall()\n",
    "# print(type(output))\n",
    "# for row in output:\n",
    "#     print(row)  \n",
    "df=pd.read_sql_query(query3,conn1)\n",
    "print(\"Indian Freedom Fighters and their Contribution\\n\")\n",
    "# print(len(df))\n",
    "for index,row in df.iterrows():\n",
    " print(row['name'],\" \\n \",row['contribution'],\"\\n\")\n",
    "conn1.close()"
   ]
  },
  {
   "cell_type": "code",
   "execution_count": null,
   "id": "60374d36-c1bb-4ce4-b9f9-0a6720b44a7c",
   "metadata": {},
   "outputs": [],
   "source": []
  }
 ],
 "metadata": {
  "kernelspec": {
   "display_name": "Python 3 (ipykernel)",
   "language": "python",
   "name": "python3"
  },
  "language_info": {
   "codemirror_mode": {
    "name": "ipython",
    "version": 3
   },
   "file_extension": ".py",
   "mimetype": "text/x-python",
   "name": "python",
   "nbconvert_exporter": "python",
   "pygments_lexer": "ipython3",
   "version": "3.12.5"
  }
 },
 "nbformat": 4,
 "nbformat_minor": 5
}
